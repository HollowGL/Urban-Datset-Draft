{
 "cells": [
  {
   "cell_type": "code",
   "execution_count": 1,
   "metadata": {},
   "outputs": [],
   "source": [
    "import pickle\n",
    "\n",
    "import numpy as np\n",
    "import pandas as pd\n",
    "from tqdm import tqdm"
   ]
  },
  {
   "cell_type": "code",
   "execution_count": 2,
   "metadata": {},
   "outputs": [],
   "source": [
    "CSV_PATH = r'C:\\Users\\guil\\Downloads\\MTA_Bus_Hourly_Ridership__Beginning_February_2022_20240121.csv'\n",
    "df = pd.read_csv(CSV_PATH)"
   ]
  },
  {
   "cell_type": "markdown",
   "metadata": {},
   "source": [
    "除去标题行：27740895 rows x 6 columns\n",
    "- **transit_timestamp**: from *2022/2/1* to *2024/1/20*, *5:00AM* to *11:00PM*(sometimes to the next day *1:00AM*), 1 hour interval\n",
    "- **bus_route**: B1 to B100, and more(Q1, Q2, ...)\n",
    "- **payment_method**\n",
    "- **fare_class_category**\n",
    "- **ridership**\n",
    "- **transfers**\n",
    "\n",
    "只保留[5:00AM, 11:00PM]时间段的数据："
   ]
  },
  {
   "cell_type": "code",
   "execution_count": 4,
   "metadata": {},
   "outputs": [],
   "source": [
    "drop_rows = df[(df['transit_timestamp'].str.endswith('12:00:00 AM')) | (df['transit_timestamp'].str.endswith('01:00:00 AM'))]\n",
    "df = df.drop(drop_rows.index)"
   ]
  },
  {
   "cell_type": "markdown",
   "metadata": {},
   "source": [
    "payment_method 和 fare_class_category 是我们不关心的特征，并且认为流量为 ridership 和 transfers 之和\n",
    "\n",
    "将各个 bus_route 作为最终结果中的 node，最终每个时空节点的流量是各个 payment_method 和 fare_class_category 下的流量相加\n",
    "\n",
    "处理需要30分钟左右："
   ]
  },
  {
   "cell_type": "code",
   "execution_count": 5,
   "metadata": {},
   "outputs": [
    {
     "name": "stderr",
     "output_type": "stream",
     "text": [
      "100%|██████████| 26436385/26436385 [28:56<00:00, 15224.63it/s]\n"
     ]
    }
   ],
   "source": [
    "time_slots = df['transit_timestamp'].unique()\n",
    "time_slots.sort()\n",
    "time_slot_map = {time: idx for idx, time in enumerate(time_slots)}\n",
    "bus_routes = df['bus_route'].unique()\n",
    "bus_routes.sort()\n",
    "bus_route_map = {route: idx for idx, route in enumerate(bus_routes)}\n",
    "\n",
    "data = np.zeros(shape=(len(time_slots), len(bus_routes)), dtype=np.int32)\n",
    "\n",
    "for _, row in tqdm(df.iterrows(), total = len(df)):\n",
    "    flow = row['ridership'] + row['transfers']\n",
    "    time = row['transit_timestamp']\n",
    "    time_idx = time_slot_map[time] \n",
    "    route = row['bus_route']\n",
    "    route_idx = bus_route_map[route]\n",
    "    data[time_idx][route_idx] = flow\n",
    "\n",
    "\n",
    "result_df = pd.DataFrame(data, columns=bus_routes)\n",
    "result_df.insert(0, 'time', time_slots)\n",
    "\n",
    "# Save data as CSV\n",
    "result_df.to_csv('data.csv', index=False)\n",
    "# Save data as pickle\n",
    "DataFormat = {\n",
    "    \"TimeRange\": ['2022-2-1', '2024-1-20'],    # 起止时间 str eg:['2016-10-01', '2016-11-30']\n",
    "    \"TimeFitness\": 60,  # 时间粒度 int 单位为min\n",
    "    \"Node\": {\n",
    "        \"TrafficNode\": data,  # np.array, with shape [time_slots, num-of-node] eg:(1440,256) \n",
    "        \"TrafficMonthlyInteraction\": [], # np.array, With shape [month, num-of-node. num-of-node]\n",
    "        \"StationInfo\": [],  # list of [id, build-time, lat, lng, name], eg:['0', 0, 34.210542575000005, 108.91390095, 'grid_0']\n",
    "        \"POI\": []\n",
    "    },\n",
    "    \"Grid\": {\n",
    "        \"TrafficGrid\": [], # with shape [slots, num-of-node. num-of-node] eg:(120, 256, 256)\n",
    "        \"GridLatLng\": [],  # 对角线点的经纬度 eg:[[34.20829427, 108.91118]]\n",
    "        \"POI\": []\n",
    "    },\n",
    "    \"ExternalFeature\": {\n",
    "        \"Weather\": []\n",
    "    }\n",
    "}\n",
    "\n",
    "with open('data.pkl', 'wb') as f:\n",
    "    pickle.dump(DataFormat, f)"
   ]
  },
  {
   "cell_type": "markdown",
   "metadata": {},
   "source": [
    "data: [15618, 331]"
   ]
  },
  {
   "cell_type": "code",
   "execution_count": 6,
   "metadata": {},
   "outputs": [
    {
     "name": "stdout",
     "output_type": "stream",
     "text": [
      "(15618, 331)\n",
      "                     time  B1  B100  B103  B11  B12  B13  B14  B15  B16  ...  \\\n",
      "0  01/01/2023 01:00:00 PM  63    11    60   74   28   22   17  104   26  ...   \n",
      "1  01/01/2023 02:00:00 AM   9     0     2    0    3    0    3   33    0  ...   \n",
      "2  01/01/2023 02:00:00 PM  63    15    62   75   38   28   13  127   36  ...   \n",
      "3  01/01/2023 03:00:00 AM   5     0     0    0    2    0    1   20    0  ...   \n",
      "4  01/01/2023 03:00:00 PM  62     4    68   65   42   40   21   68   30  ...   \n",
      "\n",
      "   Unknown Route  X27  X28  X37  X38  X63  X64  X68  X80  X81  \n",
      "0              1   17   26    0    0    0    0    0    0    0  \n",
      "1             13    0    0    0    0    0    0    0    0    0  \n",
      "2              1   34   14    0    0    0    0    0    0    0  \n",
      "3              6    0    0    0    0    0    0    0    0    0  \n",
      "4              5   16   38    0    0    0    0    0    0    0  \n",
      "\n",
      "[5 rows x 332 columns]\n",
      "<class 'pandas.core.frame.DataFrame'>\n",
      "RangeIndex: 15618 entries, 0 to 15617\n",
      "Columns: 332 entries, time to X81\n",
      "dtypes: int32(331), object(1)\n",
      "memory usage: 19.8+ MB\n",
      "None\n"
     ]
    }
   ],
   "source": [
    "print(data.shape)\n",
    "\n",
    "print(result_df.head())\n",
    "print(result_df.info())"
   ]
  },
  {
   "cell_type": "markdown",
   "metadata": {},
   "source": [
    "# BUG HERE\n",
    "times_slots 和 bus_routes 的顺序并不符合预期"
   ]
  },
  {
   "cell_type": "markdown",
   "metadata": {},
   "source": [
    "Visualize the distribution of the traffic data:"
   ]
  },
  {
   "cell_type": "code",
   "execution_count": 2,
   "metadata": {},
   "outputs": [
    {
     "data": {
      "image/png": "[encoded data removed]",
      "text/plain": [
       "<Figure size 640x480 with 1 Axes>"
      ]
     },
     "metadata": {},
     "output_type": "display_data"
    }
   ],
   "source": [
    "import matplotlib.pyplot as plt\n",
    "plt.plot(DataFormat['Node']['TrafficNode'][:, 0])\n",
    "plt.show()"
   ]
  }
 ],
 "metadata": {
  "kernelspec": {
   "display_name": "UCTB",
   "language": "python",
   "name": "python3"
  },
  "language_info": {
   "codemirror_mode": {
    "name": "ipython",
    "version": 3
   },
   "file_extension": ".py",
   "mimetype": "text/x-python",
   "name": "python",
   "nbconvert_exporter": "python",
   "pygments_lexer": "ipython3",
   "version": "3.7.12"
  }
 },
 "nbformat": 4,
 "nbformat_minor": 2
}
