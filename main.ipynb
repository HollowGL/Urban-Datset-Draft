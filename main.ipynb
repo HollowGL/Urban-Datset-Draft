{
 "cells": [
  {
   "cell_type": "code",
   "execution_count": 1,
   "metadata": {},
   "outputs": [],
   "source": [
    "from datetime import datetime\n",
    "import pickle\n",
    "\n",
    "import numpy as np\n",
    "import pandas as pd\n",
    "from tqdm import tqdm"
   ]
  },
  {
   "cell_type": "code",
   "execution_count": 2,
   "metadata": {},
   "outputs": [],
   "source": [
    "CSV_PATH = r'C:\\Users\\guil\\Downloads\\MTA_Bus_Hourly_Ridership__Beginning_February_2022_20240121.csv'\n",
    "df = pd.read_csv(CSV_PATH)"
   ]
  },
  {
   "cell_type": "markdown",
   "metadata": {},
   "source": [
    "除去标题行：27740895 rows x 6 columns\n",
    "- **transit_timestamp**: from *2022/2/1* to *2024/1/20*, *01:00AM* to *12:00PM*, 1 hour interval\n",
    "- **bus_route**: B1 to B100, and more(Q1, Q2, ...)\n",
    "- **payment_method**\n",
    "- **fare_class_category**\n",
    "- **ridership**\n",
    "- **transfers**\n",
    "\n",
    "需将12小时制时间转换为时间戳以排序\n",
    "\n",
    "payment_method 和 fare_class_category 是我们不关心的特征，并且认为流量为 ridership 和 transfers 之和\n",
    "\n",
    "将各个 bus_route 作为最终结果中的 node，最终每个时空节点的流量是各个 payment_method 和 fare_class_category 下的流量相加\n",
    "\n",
    "处理需要30分钟左右："
   ]
  },
  {
   "cell_type": "code",
   "execution_count": 4,
   "metadata": {},
   "outputs": [
    {
     "name": "stderr",
     "output_type": "stream",
     "text": [
      "100%|██████████| 27740895/27740895 [29:23<00:00, 15734.63it/s]\n"
     ]
    }
   ],
   "source": [
    "time_slots_12 = df['transit_timestamp'].unique()\n",
    "time_slot_map = {time: idx for idx, time in enumerate(time_slots_12)}\n",
    "bus_routes = df['bus_route'].unique()\n",
    "bus_route_map = {route: idx for idx, route in enumerate(bus_routes)}\n",
    "\n",
    "data = np.zeros(shape=(len(time_slots_12), len(bus_routes)), dtype=np.int32)\n",
    "\n",
    "for _, row in tqdm(df.iterrows(), total = len(df)):\n",
    "    flow = row['ridership'] + row['transfers']\n",
    "    time = row['transit_timestamp']\n",
    "    time_idx = time_slot_map[time] \n",
    "    route = row['bus_route']\n",
    "    route_idx = bus_route_map[route]\n",
    "    data[time_idx][route_idx] = flow\n",
    "\n",
    "result_df = pd.DataFrame(data, columns=bus_routes)\n",
    "\n",
    "# Convert 12-hour to timestamp inorder to sort, then convert back to 24-hour\n",
    "result_df.insert(0, 'time', time_slots_12)\n",
    "timestamp = [pd.to_datetime(time, format='%m/%d/%Y %I:%M:%S %p').timestamp() for time in time_slots_12]\n",
    "result_df['time'] = timestamp\n",
    "result_df.sort_values(by=['time'], inplace=True)\n",
    "time_slots_24 = [datetime.utcfromtimestamp(ts).strftime('%m/%d/%Y %H:%M:%S') for ts in timestamp]\n",
    "result_df['time'] = time_slots_24\n",
    "\n",
    "# Save data as CSV\n",
    "result_df.to_csv('data.csv', index=False)\n",
    "# Save data as pickle\n",
    "DataFormat = {\n",
    "    \"TimeRange\": ['2022-2-1', '2024-1-20'],    # 起止时间 str eg:['2016-10-01', '2016-11-30']\n",
    "    \"TimeFitness\": 60,  # 时间粒度 int 单位为min\n",
    "    \"Node\": {\n",
    "        \"TrafficNode\": result_df.values[:, 1:],  # np.array, with shape [time_slots, num-of-node] eg:(1440,256) \n",
    "        \"TrafficMonthlyInteraction\": [], # np.array, With shape [month, num-of-node. num-of-node]\n",
    "        \"StationInfo\": [],  # list of [id, build-time, lat, lng, name], eg:['0', 0, 34.210542575000005, 108.91390095, 'grid_0']\n",
    "        \"POI\": []\n",
    "    },\n",
    "    \"Grid\": {\n",
    "        \"TrafficGrid\": [], # with shape [slots, num-of-node. num-of-node] eg:(120, 256, 256)\n",
    "        \"GridLatLng\": [],  # 对角线点的经纬度 eg:[[34.20829427, 108.91118]]\n",
    "        \"POI\": []\n",
    "    },\n",
    "    \"ExternalFeature\": {\n",
    "        \"Weather\": []\n",
    "    }\n",
    "}\n",
    "\n",
    "with open('data.pkl', 'wb') as f:\n",
    "    pickle.dump(DataFormat, f)"
   ]
  },
  {
   "cell_type": "markdown",
   "metadata": {},
   "source": [
    "data: [15618, 331]"
   ]
  },
  {
   "cell_type": "code",
   "execution_count": 5,
   "metadata": {},
   "outputs": [
    {
     "name": "stdout",
     "output_type": "stream",
     "text": [
      "(17040, 331)\n",
      "                     time  B1  B100  B103  B11  B12  B13  B14  B15  B16  ...  \\\n",
      "6804  02/01/2022 13:00:00   4     1     8    3    6    7    2   31    1  ...   \n",
      "6805  02/01/2022 14:00:00   2     0     4    1    2    1    1    9    0  ...   \n",
      "7877  02/01/2022 15:00:00   2     0     4    0    4    0    1   13    0  ...   \n",
      "6806  02/01/2022 16:00:00   1     0     0    0    3    0    1   13    0  ...   \n",
      "6807  02/01/2022 17:00:00   4     0     0    7   11    3    1   54    0  ...   \n",
      "\n",
      "      X27  X38  X63  X64  X68  X80  X81  H.R.L.  Q00  POLICE / SHUTTLE / BUSES  \n",
      "6804    1    0    0    0    0    0    0       0    0                         0  \n",
      "6805    0    0    0    0    0    0    0       0    0                         0  \n",
      "7877    0    0    0    0    0    0    0       0    0                         0  \n",
      "6806    0    0    0    0    0    0    0       0    0                         0  \n",
      "6807    0    0    0    0    0    0    0       0    0                         0  \n",
      "\n",
      "[5 rows x 332 columns]\n",
      "<class 'pandas.core.frame.DataFrame'>\n",
      "Int64Index: 17040 entries, 6804 to 17019\n",
      "Columns: 332 entries, time to POLICE / SHUTTLE / BUSES\n",
      "dtypes: int32(331), object(1)\n",
      "memory usage: 21.8+ MB\n",
      "None\n"
     ]
    }
   ],
   "source": [
    "print(data.shape)\n",
    "\n",
    "print(result_df.head())\n",
    "print(result_df.info())"
   ]
  },
  {
   "cell_type": "markdown",
   "metadata": {},
   "source": [
    "Visualize the distribution of the traffic data:"
   ]
  },
  {
   "cell_type": "code",
   "execution_count": 11,
   "metadata": {},
   "outputs": [
    {
     "data": {
      "image/png": "[encoded data removed]",
      "text/plain": [
       "<Figure size 640x480 with 1 Axes>"
      ]
     },
     "metadata": {},
     "output_type": "display_data"
    }
   ],
   "source": [
    "import matplotlib.pyplot as plt\n",
    "plt.plot(DataFormat['Node']['TrafficNode'][:, 0])\n",
    "plt.show()"
   ]
  }
 ],
 "metadata": {
  "kernelspec": {
   "display_name": "UCTB",
   "language": "python",
   "name": "python3"
  },
  "language_info": {
   "codemirror_mode": {
    "name": "ipython",
    "version": 3
   },
   "file_extension": ".py",
   "mimetype": "text/x-python",
   "name": "python",
   "nbconvert_exporter": "python",
   "pygments_lexer": "ipython3",
   "version": "3.7.12"
  }
 },
 "nbformat": 4,
 "nbformat_minor": 2
}
